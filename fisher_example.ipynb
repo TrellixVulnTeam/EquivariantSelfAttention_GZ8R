{
 "cells": [
  {
   "cell_type": "markdown",
   "id": "professional-bradford",
   "metadata": {},
   "source": [
    "# Fisher Analysis of the Network"
   ]
  },
  {
   "cell_type": "markdown",
   "id": "selective-amsterdam",
   "metadata": {},
   "source": [
    "This notebook demonstrates using the Fisher Information to calculate generalisability and trainability metrics"
   ]
  },
  {
   "cell_type": "code",
   "execution_count": 1,
   "id": "reserved-honolulu",
   "metadata": {
    "tags": []
   },
   "outputs": [],
   "source": [
    "import os\n",
    "import sys\n",
    "\n",
    "import torch\n",
    "import torch.nn as nn\n",
    "import torch.nn.functional as F\n",
    "import torch.optim as optim\n",
    "from torchvision import transforms\n",
    "import PIL\n",
    "from torchsummary import summary\n",
    "\n",
    "import pandas as pd\n",
    "import numpy as np\n",
    "import matplotlib.pyplot as plt\n",
    "import configparser as ConfigParser\n",
    "import pickle\n",
    "\n",
    "from utils import *\n",
    "# Ipmport various network architectures\n",
    "from networks import AGRadGalNet, VanillaLeNet, testNet, DNSteerableLeNet, DNSteerableAGRadGalNet\n",
    "# Import various data classes\n",
    "from datasets import FRDEEPF\n",
    "from datasets import MiraBest_full, MBFRConfident, MBFRUncertain, MBHybrid\n",
    "from datasets import MingoLoTSS, MLFR, MLFRTest\n",
    "from scipy.special import logsumexp\n",
    "import torch.nn.functional as F"
   ]
  },
  {
   "cell_type": "markdown",
   "id": "dimensional-islam",
   "metadata": {},
   "source": [
    "Load in the dataset and the relevant configuration"
   ]
  },
  {
   "cell_type": "code",
   "execution_count": 2,
   "id": "southern-investigator",
   "metadata": {},
   "outputs": [
    {
     "name": "stdout",
     "output_type": "stream",
     "text": [
      "models/scaife2021/rmnist/5kernel\n"
     ]
    },
    {
     "name": "stderr",
     "output_type": "stream",
     "text": [
      "/raid/scratch/mattyb/venv/lib/python3.8/site-packages/torchvision/transforms/transforms.py:1314: UserWarning: Argument resample is deprecated and will be removed since v0.10.0. Please, use interpolation instead\n",
      "  warnings.warn(\n"
     ]
    }
   ],
   "source": [
    "PATH = \"configs/\"\n",
    "cfg_base = \"5kernel_scaife2021_rmnist_RandAug.cfg\"\n",
    "#cfg_base = \"C4_attention_mirabest.cfg\"\n",
    "config = ConfigParser.ConfigParser(allow_no_value=True)\n",
    "config.read(PATH + cfg_base)\n",
    "device = \"cuda\"\n",
    "\n",
    "train_loader, valid_loader  = utils.data.load(\n",
    "    config, \n",
    "    train=True, \n",
    "    augmentation='config', \n",
    "    data_loader=True\n",
    ")\n",
    "workingdir = config['output']['directory']\n",
    "print(workingdir)\n",
    "transform = transforms.Compose(\n",
    "    [transforms.ToTensor(),\n",
    "     transforms.Normalize([0.5],[0.5])])\n",
    "outputsize = config.getint('data', 'num_classes')"
   ]
  },
  {
   "cell_type": "code",
   "execution_count": 3,
   "id": "satisfied-deposit",
   "metadata": {},
   "outputs": [
    {
     "name": "stdout",
     "output_type": "stream",
     "text": [
      "Loading in VanillaLeNet\n"
     ]
    }
   ],
   "source": [
    "print(f\"Loading in {config['model']['base']}\")\n",
    "net = locals()[config['model']['base']](**config['model']).to(device)\n",
    "\n",
    "quiet = config.getboolean('DEFAULT', 'quiet')\n",
    "early_stopping = config.getboolean('training', 'early_stopping')\n",
    "\n",
    "# Read / Create Folder for Data to be Saved\n",
    "root = config['data']['directory']\n",
    "os.makedirs(root, exist_ok=True)\n"
   ]
  },
  {
   "cell_type": "markdown",
   "id": "religious-ottawa",
   "metadata": {},
   "source": [
    "Attempt to load in the best saved model"
   ]
  },
  {
   "cell_type": "code",
   "execution_count": 4,
   "id": "increased-smell",
   "metadata": {},
   "outputs": [],
   "source": [
    "path_supliment = config['data']['augment']+'/'\n",
    "model = utils.utils.load_model(config, load_model='best', device=device, path_supliment=path_supliment)"
   ]
  },
  {
   "cell_type": "markdown",
   "id": "meaningful-block",
   "metadata": {},
   "source": [
    "Save the Model Weights and then Train the Last Layer to ensure the grad information is retained"
   ]
  },
  {
   "cell_type": "code",
   "execution_count": 5,
   "id": "constitutional-process",
   "metadata": {},
   "outputs": [],
   "source": [
    "utils.fisher.WeightTransfer(model, net)"
   ]
  },
  {
   "cell_type": "code",
   "execution_count": 6,
   "id": "champion-coast",
   "metadata": {},
   "outputs": [],
   "source": [
    "optimizer = optim.Adam(filter(lambda p: p.requires_grad, net.parameters()), lr=0.0001)"
   ]
  },
  {
   "cell_type": "markdown",
   "id": "connected-warning",
   "metadata": {},
   "source": [
    "Function to obtain the Jacobian using the Torch AutoGrad"
   ]
  },
  {
   "cell_type": "code",
   "execution_count": null,
   "id": "elder-montgomery",
   "metadata": {},
   "outputs": [
    {
     "name": "stdout",
     "output_type": "stream",
     "text": [
      "Calculating 10 of the Fisher...\n"
     ]
    },
    {
     "name": "stderr",
     "output_type": "stream",
     "text": [
      "  0%|          | 0/10 [00:00<?, ?it/s]"
     ]
    }
   ],
   "source": [
    "Fishers, Rank, FR= CalcFIM(net, train_loader, 10, outputsize, workingdir)"
   ]
  },
  {
   "cell_type": "code",
   "execution_count": 16,
   "id": "attached-aggregate",
   "metadata": {},
   "outputs": [
    {
     "ename": "NameError",
     "evalue": "name 'Fishers' is not defined",
     "output_type": "error",
     "traceback": [
      "\u001b[0;31m---------------------------------------------------------------------------\u001b[0m",
      "\u001b[0;31mNameError\u001b[0m                                 Traceback (most recent call last)",
      "\u001b[0;32m<ipython-input-16-78075d5e4ae7>\u001b[0m in \u001b[0;36m<module>\u001b[0;34m\u001b[0m\n\u001b[0;32m----> 1\u001b[0;31m \u001b[0mprint\u001b[0m\u001b[0;34m(\u001b[0m\u001b[0mFishers\u001b[0m\u001b[0;34m)\u001b[0m\u001b[0;34m\u001b[0m\u001b[0;34m\u001b[0m\u001b[0m\n\u001b[0m\u001b[1;32m      2\u001b[0m \u001b[0mFinalAverageFisher\u001b[0m \u001b[0;34m=\u001b[0m \u001b[0mnormalise\u001b[0m\u001b[0;34m(\u001b[0m\u001b[0mFishers\u001b[0m\u001b[0;34m.\u001b[0m\u001b[0mdetach\u001b[0m\u001b[0;34m(\u001b[0m\u001b[0;34m)\u001b[0m\u001b[0;34m.\u001b[0m\u001b[0mnumpy\u001b[0m\u001b[0;34m(\u001b[0m\u001b[0;34m)\u001b[0m\u001b[0;34m)\u001b[0m\u001b[0;34m\u001b[0m\u001b[0;34m\u001b[0m\u001b[0m\n\u001b[1;32m      3\u001b[0m \u001b[0mprint\u001b[0m\u001b[0;34m(\u001b[0m\u001b[0mFinalAverageFisher\u001b[0m\u001b[0;34m)\u001b[0m\u001b[0;34m\u001b[0m\u001b[0;34m\u001b[0m\u001b[0m\n",
      "\u001b[0;31mNameError\u001b[0m: name 'Fishers' is not defined"
     ]
    }
   ],
   "source": [
    "print(Fishers)\n",
    "FinalAverageFisher = normalise(Fishers.detach().numpy(), outputsize*len(net.last_weights().weight[0]))\n",
    "print(FinalAverageFisher)"
   ]
  },
  {
   "cell_type": "markdown",
   "id": "invalid-colon",
   "metadata": {},
   "source": [
    "Calculating values of the Fisher Information Matrix manually (not using the imports)"
   ]
  },
  {
   "cell_type": "markdown",
   "id": "planned-trauma",
   "metadata": {},
   "source": [
    "Example Plots of the Fisher Information Matrix"
   ]
  },
  {
   "cell_type": "code",
   "execution_count": 178,
   "id": "other-benjamin",
   "metadata": {},
   "outputs": [
    {
     "data": {
      "image/png": "[encoded data removed]",
      "text/plain": [
       "<Figure size 432x288 with 4 Axes>"
      ]
     },
     "metadata": {
      "needs_background": "light"
     },
     "output_type": "display_data"
    },
    {
     "data": {
      "text/plain": [
       "<matplotlib.image.AxesImage at 0x7f7eddd75910>"
      ]
     },
     "execution_count": 178,
     "metadata": {},
     "output_type": "execute_result"
    },
    {
     "data": {
      "image/png": "[encoded data removed]",
      "text/plain": [
       "<Figure size 432x288 with 1 Axes>"
      ]
     },
     "metadata": {
      "needs_background": "light"
     },
     "output_type": "display_data"
    }
   ],
   "source": [
    "f, axarr = plt.subplots(2,2)\n",
    "\n",
    "axarr[0,0].imshow(Fishers[0].cpu())\n",
    "axarr[0,1].imshow(Fishers[1].cpu())\n",
    "axarr[1,0].imshow(Fishers[2].cpu())\n",
    "axarr[1,1].imshow(Fishers[7].cpu())\n",
    "plt.show()\n",
    "\n",
    "plt.imshow(FinalAverageFisher)"
   ]
  },
  {
   "cell_type": "markdown",
   "id": "surprised-removal",
   "metadata": {},
   "source": [
    "Eigenvalue Distribution of the Fisher Information Matrix"
   ]
  },
  {
   "cell_type": "code",
   "execution_count": 179,
   "id": "impossible-disney",
   "metadata": {},
   "outputs": [
    {
     "data": {
      "image/png": "[encoded data removed]",
      "text/plain": [
       "<Figure size 432x288 with 1 Axes>"
      ]
     },
     "metadata": {
      "needs_background": "light"
     },
     "output_type": "display_data"
    }
   ],
   "source": [
    "EV =[]\n",
    "#normalise fisher\n",
    "\n",
    "#Calculate Positive Eigenvalues\n",
    "for i in Fishers:\n",
    "    EV = np.append(EV,torch.eig(i, eigenvectors=False,  out=None)[0][:,0].detach().numpy())\n",
    "#Plot Them\n",
    "plt.subplot(111)\n",
    "nbins = 10\n",
    "plt.hist(EV, bins=nbins, rwidth=0.8, color='r')\n",
    "plt.ylabel(\"Total Counts\")\n",
    "plt.xlabel(\"Eigenvalue\")\n",
    "plt.title(\"Fisher Matrix Eigenspectrum\")\n",
    "plt.show()"
   ]
  },
  {
   "cell_type": "markdown",
   "id": "moved-december",
   "metadata": {},
   "source": [
    "Rank Distribution of the Obtained Realisations of the Fisher Information Matrix"
   ]
  },
  {
   "cell_type": "code",
   "execution_count": 180,
   "id": "fabulous-roberts",
   "metadata": {},
   "outputs": [
    {
     "name": "stdout",
     "output_type": "stream",
     "text": [
      "The Mean Rank obtained is 1.98 \n",
      "\n"
     ]
    },
    {
     "data": {
      "image/png": "[encoded data removed]",
      "text/plain": [
       "<Figure size 432x288 with 1 Axes>"
      ]
     },
     "metadata": {
      "needs_background": "light"
     },
     "output_type": "display_data"
    }
   ],
   "source": [
    "plt.subplot(111)\n",
    "nbins = 8\n",
    "plt.hist(Rank, bins=nbins, rwidth=0.8, color='g')\n",
    "plt.ylabel(\"Total Counts\")\n",
    "plt.xlabel(\"Matrix Rank\")\n",
    "plt.title(\"Fisher Matrix Rank Distribution\")\n",
    "MeanRank = np.mean(Rank)\n",
    "print(f\"The Mean Rank obtained is {MeanRank} \\n\")\n",
    "plt.savefig('VanillaRank.png')\n",
    "plt.show()"
   ]
  },
  {
   "cell_type": "markdown",
   "id": "public-works",
   "metadata": {},
   "source": [
    "Fisher Rao Norm Distribution"
   ]
  },
  {
   "cell_type": "code",
   "execution_count": 181,
   "id": "indonesian-acquisition",
   "metadata": {},
   "outputs": [
    {
     "data": {
      "image/png": "[encoded data removed]",
      "text/plain": [
       "<Figure size 432x288 with 1 Axes>"
      ]
     },
     "metadata": {
      "needs_background": "light"
     },
     "output_type": "display_data"
    }
   ],
   "source": [
    "plt.subplot(111)\n",
    "nbins = 10\n",
    "FR2 = [np.abs(e) for e in FR]\n",
    "plt.hist(FR2, bins=nbins, rwidth = 0.8 ,color='b')\n",
    "plt.ylabel(\"Total Counts\")\n",
    "plt.xlabel(\"Fisher Rao Norm\")\n",
    "plt.title(\"Fisher Rao Norm Distribution\")\n",
    "plt.savefig('VanillaRao.png')\n",
    "plt.show()"
   ]
  },
  {
   "cell_type": "markdown",
   "id": "flexible-chancellor",
   "metadata": {},
   "source": [
    "Testing the Effective Dimension"
   ]
  },
  {
   "cell_type": "code",
   "execution_count": 182,
   "id": "responsible-combining",
   "metadata": {},
   "outputs": [
    {
     "name": "stderr",
     "output_type": "stream",
     "text": [
      "100%|██████████| 1000/1000 [00:00<00:00, 6792.82it/s]\n"
     ]
    },
    {
     "data": {
      "text/plain": [
       "[<matplotlib.lines.Line2D at 0x7f7da838d2b0>]"
      ]
     },
     "execution_count": 182,
     "metadata": {},
     "output_type": "execute_result"
    },
    {
     "data": {
      "image/png": "[encoded data removed]",
      "text/plain": [
       "<Figure size 432x288 with 1 Axes>"
      ]
     },
     "metadata": {
      "needs_background": "light"
     },
     "output_type": "display_data"
    }
   ],
   "source": [
    "ed = []\n",
    "n_samples = [i for i in range(10,1000000,1000)]\n",
    "workingdir = config['output']['directory']\n",
    "\n",
    "ed = effective_dimension(net,FinalAverageFisher, 12, n_samples, 12)\n",
    "d = {\"Samples\": n_samples, \"ED\": np.array([x/12 for x in ed])}\n",
    "pickle.dump(d, open(f\"{workingdir}/effd.p\", \"wb\"))\n",
    "plt.plot(d['Samples'], d['ED'])"
   ]
  },
  {
   "cell_type": "markdown",
   "id": "known-healthcare",
   "metadata": {},
   "source": []
  },
  {
   "cell_type": "code",
   "execution_count": null,
   "id": "568867d8-2b75-42e3-9fe7-5eb2a173fdbb",
   "metadata": {},
   "outputs": [],
   "source": []
  }
 ],
 "metadata": {
  "kernelspec": {
   "display_name": "Python 3",
   "language": "python",
   "name": "python3"
  },
  "language_info": {
   "codemirror_mode": {
    "name": "ipython",
    "version": 3
   },
   "file_extension": ".py",
   "mimetype": "text/x-python",
   "name": "python",
   "nbconvert_exporter": "python",
   "pygments_lexer": "ipython3",
   "version": "3.8.5"
  }
 },
 "nbformat": 4,
 "nbformat_minor": 5
}
