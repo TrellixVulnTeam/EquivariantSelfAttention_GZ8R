{
 "cells": [
  {
   "cell_type": "markdown",
   "id": "professional-bradford",
   "metadata": {},
   "source": [
    "# Fisher Analysis of the Network"
   ]
  },
  {
   "cell_type": "markdown",
   "id": "selective-amsterdam",
   "metadata": {},
   "source": [
    "This notebook demonstrates using the Fisher Information to calculate generalisability and trainability metrics"
   ]
  },
  {
   "cell_type": "code",
   "execution_count": 1,
   "id": "reserved-honolulu",
   "metadata": {
    "tags": []
   },
   "outputs": [],
   "source": [
    "import os\n",
    "import sys\n",
    "\n",
    "import torch\n",
    "import torch.nn as nn\n",
    "import torch.nn.functional as F\n",
    "import torch.optim as optim\n",
    "from torchvision import transforms\n",
    "import PIL\n",
    "from torchsummary import summary\n",
    "\n",
    "import pandas as pd\n",
    "import numpy as np\n",
    "import matplotlib.pyplot as plt\n",
    "import configparser as ConfigParser\n",
    "import pickle\n",
    "\n",
    "from utils import *\n",
    "# Ipmport various network architectures\n",
    "from networks import AGRadGalNet, VanillaLeNet, testNet, DNSteerableLeNet, DNSteerableAGRadGalNet\n",
    "# Import various data classes\n",
    "from datasets import FRDEEPF\n",
    "from datasets import MiraBest_full, MBFRConfident, MBFRUncertain, MBHybrid\n",
    "from datasets import MingoLoTSS, MLFR, MLFRTest\n",
    "from scipy.special import logsumexp\n",
    "import torch.nn.functional as F"
   ]
  },
  {
   "cell_type": "markdown",
   "id": "dimensional-islam",
   "metadata": {},
   "source": [
    "Load in the dataset and the relevant configuration"
   ]
  },
  {
   "cell_type": "code",
   "execution_count": 2,
   "id": "southern-investigator",
   "metadata": {},
   "outputs": [
    {
     "name": "stdout",
     "output_type": "stream",
     "text": [
      "Files already downloaded and verified\n",
      "models/e2attention/mirabest/fisher/C4\n"
     ]
    },
    {
     "name": "stderr",
     "output_type": "stream",
     "text": [
      "/raid/scratch/mattyb/venv/lib/python3.8/site-packages/torchvision/transforms/transforms.py:1314: UserWarning: Argument resample is deprecated and will be removed since v0.10.0. Please, use interpolation instead\n",
      "  warnings.warn(\n"
     ]
    }
   ],
   "source": [
    "PATH = \"configs/\"\n",
    "cfg_base = \"C4_attention_mirabest.cfg\"\n",
    "config = ConfigParser.ConfigParser(allow_no_value=True)\n",
    "config.read(PATH + cfg_base)\n",
    "device = \"cuda\"\n",
    "\n",
    "train_loader, valid_loader  = utils.data.load(\n",
    "    config, \n",
    "    train=True, \n",
    "    augmentation='config', \n",
    "    data_loader=True\n",
    ")\n",
    "workingdir = config['output']['directory']\n",
    "print(workingdir)\n",
    "transform = transforms.Compose(\n",
    "    [transforms.ToTensor(),\n",
    "     transforms.Normalize([0.5],[0.5])])"
   ]
  },
  {
   "cell_type": "code",
   "execution_count": 3,
   "id": "satisfied-deposit",
   "metadata": {},
   "outputs": [
    {
     "name": "stdout",
     "output_type": "stream",
     "text": [
      "Loading in DNSteerableAGRadGalNet\n"
     ]
    },
    {
     "name": "stderr",
     "output_type": "stream",
     "text": [
      "/raid/scratch/mattyb/venv/lib/python3.8/site-packages/e2cnn/nn/modules/r2_conv/basisexpansion_singleblock.py:61: UserWarning: indexing with dtype torch.uint8 is now deprecated, please use a dtype torch.bool instead. (Triggered internally at  /pytorch/aten/src/ATen/native/IndexingUtils.h:30.)\n",
      "  sampled_basis = sampled_basis[mask, ...]\n"
     ]
    },
    {
     "name": "stdout",
     "output_type": "stream",
     "text": [
      "cuda\n"
     ]
    }
   ],
   "source": [
    "print(f\"Loading in {config['model']['base']}\")\n",
    "net = locals()[config['model']['base']](**config['model']).to(device)\n",
    "\n",
    "quiet = config.getboolean('DEFAULT', 'quiet')\n",
    "early_stopping = config.getboolean('training', 'early_stopping')\n",
    "\n",
    "# Read / Create Folder for Data to be Saved\n",
    "root = config['data']['directory']\n",
    "os.makedirs(root, exist_ok=True)\n",
    "\n",
    "if not quiet:\n",
    "    if 'DN' not in config['model']['base']:\n",
    "        summary(net, (1, 150, 150))\n",
    "    print(device)\n",
    "    if device == torch.device('cuda'):\n",
    "        summary(net, (1,150,150))\n",
    "        print(torch.cuda.get_device_name(device=device))"
   ]
  },
  {
   "cell_type": "markdown",
   "id": "religious-ottawa",
   "metadata": {},
   "source": [
    "Attempt to load in the best saved model"
   ]
  },
  {
   "cell_type": "code",
   "execution_count": 4,
   "id": "increased-smell",
   "metadata": {},
   "outputs": [],
   "source": [
    "path_supliment = config['data']['augment']+'/'\n",
    "model = utils.utils.load_model(config, load_model='best', device=device, path_supliment=path_supliment)"
   ]
  },
  {
   "cell_type": "markdown",
   "id": "meaningful-block",
   "metadata": {},
   "source": [
    "Save the Model Weights and then Train the Last Layer to ensure the grad information is retained"
   ]
  },
  {
   "cell_type": "code",
   "execution_count": 5,
   "id": "constitutional-process",
   "metadata": {},
   "outputs": [],
   "source": [
    "utils.fisher.WeightTransfer(model, net)"
   ]
  },
  {
   "cell_type": "code",
   "execution_count": 6,
   "id": "champion-coast",
   "metadata": {},
   "outputs": [],
   "source": [
    "optimizer = optim.Adam(filter(lambda p: p.requires_grad, net.parameters()), lr=0.0001)"
   ]
  },
  {
   "cell_type": "markdown",
   "id": "connected-warning",
   "metadata": {},
   "source": [
    "Function to obtain the Jacobian using the Torch AutoGrad"
   ]
  },
  {
   "cell_type": "code",
   "execution_count": 15,
   "id": "elder-montgomery",
   "metadata": {},
   "outputs": [
    {
     "name": "stdout",
     "output_type": "stream",
     "text": [
      "Calculating 100 of the Fisher...\n"
     ]
    },
    {
     "name": "stderr",
     "output_type": "stream",
     "text": [
      "  0%|          | 0/100 [00:00<?, ?it/s]/raid/scratch/mattyb/venv/lib/python3.8/site-packages/torch/nn/functional.py:3451: UserWarning: Default upsampling behavior when mode=bilinear is changed to align_corners=False since 0.4.0. Please specify align_corners=True if the old behavior is desired. See the documentation of nn.Upsample for details.\n",
      "  warnings.warn(\n",
      "100%|██████████| 100/100 [02:07<00:00,  1.28s/it]\n"
     ]
    }
   ],
   "source": [
    "Fishers, Rank, FR= CalcFIM(net, train_loader, 100)"
   ]
  },
  {
   "cell_type": "code",
   "execution_count": 17,
   "id": "attached-aggregate",
   "metadata": {},
   "outputs": [
    {
     "name": "stdout",
     "output_type": "stream",
     "text": [
      "tensor([[[ 5.4335e+04,  3.1004e+04,  4.3642e+02,  ..., -8.7194e+04,\n",
      "          -1.0866e+05, -5.6330e+02],\n",
      "         [ 3.1004e+04,  1.7745e+04,  8.5418e-06,  ..., -4.9771e+04,\n",
      "          -6.1293e+04, -1.3404e-05],\n",
      "         [ 4.3642e+02,  8.5418e-06,  1.0310e+05,  ..., -1.5758e-05,\n",
      "          -2.4288e+05, -1.3308e+05],\n",
      "         ...,\n",
      "         [-8.7194e+04, -4.9771e+04, -1.5758e-05,  ...,  1.3993e+05,\n",
      "           1.7269e+05,  2.4761e-05],\n",
      "         [-1.0866e+05, -6.1293e+04, -2.4288e+05,  ...,  1.7269e+05,\n",
      "           7.8563e+05,  3.1349e+05],\n",
      "         [-5.6330e+02, -1.3404e-05, -1.3308e+05,  ...,  2.4761e-05,\n",
      "           3.1349e+05,  1.7177e+05]],\n",
      "\n",
      "        [[ 1.5257e+03,  4.4569e+03,  1.4924e+04,  ..., -2.3918e+04,\n",
      "          -1.6204e-10, -2.5990e+04],\n",
      "         [ 4.4569e+03,  1.3019e+04,  4.3597e+04,  ..., -6.9870e+04,\n",
      "           0.0000e+00, -7.5923e+04],\n",
      "         [ 1.4924e+04,  4.3597e+04,  1.4599e+05,  ..., -2.3397e+05,\n",
      "           0.0000e+00, -2.5423e+05],\n",
      "         ...,\n",
      "         [-2.3918e+04, -6.9870e+04, -2.3397e+05,  ...,  3.7497e+05,\n",
      "           0.0000e+00,  4.0745e+05],\n",
      "         [-1.6204e-10,  0.0000e+00,  0.0000e+00,  ...,  0.0000e+00,\n",
      "           6.3848e-14,  0.0000e+00],\n",
      "         [-2.5990e+04, -7.5923e+04, -2.5423e+05,  ...,  4.0745e+05,\n",
      "           0.0000e+00,  4.4274e+05]],\n",
      "\n",
      "        [[ 1.5296e-21,  5.5291e-22,  0.0000e+00,  ...,  0.0000e+00,\n",
      "           0.0000e+00,  0.0000e+00],\n",
      "         [ 5.5291e-22,  1.9986e-22,  0.0000e+00,  ...,  0.0000e+00,\n",
      "           0.0000e+00,  0.0000e+00],\n",
      "         [ 0.0000e+00,  0.0000e+00,  0.0000e+00,  ...,  0.0000e+00,\n",
      "           0.0000e+00,  0.0000e+00],\n",
      "         ...,\n",
      "         [ 0.0000e+00,  0.0000e+00,  0.0000e+00,  ...,  0.0000e+00,\n",
      "           0.0000e+00,  0.0000e+00],\n",
      "         [ 0.0000e+00,  0.0000e+00,  0.0000e+00,  ...,  0.0000e+00,\n",
      "           0.0000e+00,  0.0000e+00],\n",
      "         [ 0.0000e+00,  0.0000e+00,  0.0000e+00,  ...,  0.0000e+00,\n",
      "           0.0000e+00,  0.0000e+00]],\n",
      "\n",
      "        ...,\n",
      "\n",
      "        [[ 7.3853e+00,  3.5400e+00,  3.2584e-02,  ..., -1.8865e-02,\n",
      "          -3.6290e-02, -2.8382e-02],\n",
      "         [ 3.5400e+00,  1.8188e+00,  6.6563e+00,  ..., -2.0367e-02,\n",
      "          -3.9178e-02, -4.3440e+00],\n",
      "         [ 3.2584e-02,  6.6563e+00,  3.6861e+02,  ..., -7.4052e-02,\n",
      "          -1.4245e-01, -2.4016e+02],\n",
      "         ...,\n",
      "         [-1.8865e-02, -2.0367e-02, -7.4052e-02,  ...,  4.2875e-02,\n",
      "           8.2474e-02,  6.4502e-02],\n",
      "         [-3.6290e-02, -3.9178e-02, -1.4245e-01,  ...,  8.2474e-02,\n",
      "           1.5865e-01,  1.2408e-01],\n",
      "         [-2.8382e-02, -4.3440e+00, -2.4016e+02,  ...,  6.4502e-02,\n",
      "           1.2408e-01,  1.5648e+02]],\n",
      "\n",
      "        [[ 3.1367e+02,  4.4181e+02,  5.3896e-16,  ..., -1.2271e+03,\n",
      "           0.0000e+00, -1.7955e+03],\n",
      "         [ 4.4181e+02,  6.4275e+02,  1.4405e-16,  ..., -1.8370e+03,\n",
      "           0.0000e+00, -2.5416e+03],\n",
      "         [ 5.3896e-16,  1.4405e-16,  3.8686e-17,  ...,  0.0000e+00,\n",
      "           0.0000e+00,  0.0000e+00],\n",
      "         ...,\n",
      "         [-1.2271e+03, -1.8370e+03,  0.0000e+00,  ...,  5.3775e+03,\n",
      "           0.0000e+00,  7.0851e+03],\n",
      "         [ 0.0000e+00,  0.0000e+00,  0.0000e+00,  ...,  0.0000e+00,\n",
      "           0.0000e+00,  0.0000e+00],\n",
      "         [-1.7955e+03, -2.5416e+03,  0.0000e+00,  ...,  7.0851e+03,\n",
      "           0.0000e+00,  1.0357e+04]],\n",
      "\n",
      "        [[ 6.6563e+00,  4.4429e+00,  2.4607e+00,  ..., -1.9191e+01,\n",
      "          -1.4168e+01,  0.0000e+00],\n",
      "         [ 4.4429e+00,  2.9915e+00,  1.6424e+00,  ..., -1.2809e+01,\n",
      "          -9.5377e+00, -4.7427e-02],\n",
      "         [ 2.4607e+00,  1.6424e+00,  9.0965e-01,  ..., -7.0942e+00,\n",
      "          -5.2375e+00,  0.0000e+00],\n",
      "         ...,\n",
      "         [-1.9191e+01, -1.2809e+01, -7.0942e+00,  ...,  5.5351e+01,\n",
      "           4.0847e+01,  0.0000e+00],\n",
      "         [-1.4168e+01, -9.5377e+00, -5.2375e+00,  ...,  4.0847e+01,\n",
      "           3.0422e+01,  1.5332e-01],\n",
      "         [ 0.0000e+00, -4.7427e-02,  0.0000e+00,  ...,  0.0000e+00,\n",
      "           1.5332e-01,  8.9387e-02]]])\n",
      "[[ 0.0915  0.0913  0.1612  0.0764  0.1321  0.0714 -0.0915 -0.0913 -0.1612 -0.0764 -0.1321 -0.0714]\n",
      " [ 0.0913  0.1611  0.3546  0.0843  0.4082  0.2008 -0.0913 -0.1611 -0.3546 -0.0843 -0.4082 -0.2008]\n",
      " [ 0.1612  0.3546  1.7183  0.1003  1.1389  0.3181 -0.1612 -0.3546 -1.7183 -0.1003 -1.1389 -0.3181]\n",
      " [ 0.0764  0.0843  0.1003  0.2804  0.0474  0.1212 -0.0764 -0.0843 -0.1003 -0.2804 -0.0474 -0.1212]\n",
      " [ 0.1321  0.4082  1.1389  0.0474  2.8362  0.4608 -0.1321 -0.4082 -1.1389 -0.0474 -2.8362 -0.4608]\n",
      " [ 0.0714  0.2008  0.3181  0.1212  0.4608  0.9124 -0.0714 -0.2008 -0.3181 -0.1212 -0.4608 -0.9124]\n",
      " [-0.0915 -0.0913 -0.1612 -0.0764 -0.1321 -0.0714  0.0915  0.0913  0.1612  0.0764  0.1321  0.0714]\n",
      " [-0.0913 -0.1611 -0.3546 -0.0843 -0.4082 -0.2008  0.0913  0.1611  0.3546  0.0843  0.4082  0.2008]\n",
      " [-0.1612 -0.3546 -1.7183 -0.1003 -1.1389 -0.3181  0.1612  0.3546  1.7183  0.1003  1.1389  0.3181]\n",
      " [-0.0764 -0.0843 -0.1003 -0.2804 -0.0474 -0.1212  0.0764  0.0843  0.1003  0.2804  0.0474  0.1212]\n",
      " [-0.1321 -0.4082 -1.1389 -0.0474 -2.8362 -0.4608  0.1321  0.4082  1.1389  0.0474  2.8362  0.4608]\n",
      " [-0.0714 -0.2008 -0.3181 -0.1212 -0.4608 -0.9124  0.0714  0.2008  0.3181  0.1212  0.4608  0.9124]]\n"
     ]
    }
   ],
   "source": [
    "print(Fishers)\n",
    "FinalAverageFisher = normalise(Fishers.detach().numpy())\n",
    "print(FinalAverageFisher)"
   ]
  },
  {
   "cell_type": "markdown",
   "id": "invalid-colon",
   "metadata": {},
   "source": [
    "Calculating values of the Fisher Information Matrix manually (not using the imports)"
   ]
  },
  {
   "cell_type": "markdown",
   "id": "planned-trauma",
   "metadata": {},
   "source": [
    "Example Plots of the Fisher Information Matrix"
   ]
  },
  {
   "cell_type": "code",
   "execution_count": 18,
   "id": "other-benjamin",
   "metadata": {},
   "outputs": [
    {
     "data": {
      "image/png": "[encoded data removed]",
      "text/plain": [
       "<Figure size 432x288 with 4 Axes>"
      ]
     },
     "metadata": {
      "needs_background": "light"
     },
     "output_type": "display_data"
    },
    {
     "data": {
      "text/plain": [
       "<matplotlib.image.AxesImage at 0x7f499cbe7dc0>"
      ]
     },
     "execution_count": 18,
     "metadata": {},
     "output_type": "execute_result"
    },
    {
     "data": {
      "image/png": "[encoded data removed]",
      "text/plain": [
       "<Figure size 432x288 with 1 Axes>"
      ]
     },
     "metadata": {
      "needs_background": "light"
     },
     "output_type": "display_data"
    }
   ],
   "source": [
    "f, axarr = plt.subplots(2,2)\n",
    "\n",
    "axarr[0,0].imshow(Fishers[0].cpu())\n",
    "axarr[0,1].imshow(Fishers[1].cpu())\n",
    "axarr[1,0].imshow(Fishers[2].cpu())\n",
    "axarr[1,1].imshow(Fishers[3].cpu())\n",
    "plt.show()\n",
    "\n",
    "plt.imshow(FinalAverageFisher)"
   ]
  },
  {
   "cell_type": "markdown",
   "id": "surprised-removal",
   "metadata": {},
   "source": [
    "Eigenvalue Distribution of the Fisher Information Matrix"
   ]
  },
  {
   "cell_type": "code",
   "execution_count": 19,
   "id": "impossible-disney",
   "metadata": {},
   "outputs": [
    {
     "data": {
      "image/png": "[encoded data removed]",
      "text/plain": [
       "<Figure size 432x288 with 1 Axes>"
      ]
     },
     "metadata": {
      "needs_background": "light"
     },
     "output_type": "display_data"
    }
   ],
   "source": [
    "EV =[]\n",
    "#normalise fisher\n",
    "\n",
    "#Calculate Positive Eigenvalues\n",
    "for i in Fishers:\n",
    "    EV = np.append(EV,torch.eig(i, eigenvectors=False,  out=None)[0][:,0].detach().numpy())\n",
    "#Plot Them\n",
    "plt.subplot(111)\n",
    "nbins = 10\n",
    "plt.hist(EV, bins=nbins, rwidth=0.8, color='r')\n",
    "plt.ylabel(\"Total Counts\")\n",
    "plt.xlabel(\"Eigenvalue\")\n",
    "plt.title(\"Fisher Matrix Eigenspectrum\")\n",
    "plt.show()"
   ]
  },
  {
   "cell_type": "markdown",
   "id": "moved-december",
   "metadata": {},
   "source": [
    "Rank Distribution of the Obtained Realisations of the Fisher Information Matrix"
   ]
  },
  {
   "cell_type": "code",
   "execution_count": 20,
   "id": "fabulous-roberts",
   "metadata": {},
   "outputs": [
    {
     "name": "stdout",
     "output_type": "stream",
     "text": [
      "The Mean Rank obtained is 1.4 \n",
      "\n"
     ]
    },
    {
     "data": {
      "image/png": "[encoded data removed]",
      "text/plain": [
       "<Figure size 432x288 with 1 Axes>"
      ]
     },
     "metadata": {
      "needs_background": "light"
     },
     "output_type": "display_data"
    }
   ],
   "source": [
    "plt.subplot(111)\n",
    "nbins = 8\n",
    "plt.hist(Rank, bins=nbins, rwidth=0.8, color='g')\n",
    "plt.ylabel(\"Total Counts\")\n",
    "plt.xlabel(\"Matrix Rank\")\n",
    "plt.title(\"Fisher Matrix Rank Distribution\")\n",
    "MeanRank = np.mean(Rank)\n",
    "print(f\"The Mean Rank obtained is {MeanRank} \\n\")\n",
    "plt.savefig('VanillaRank.png')\n",
    "plt.show()"
   ]
  },
  {
   "cell_type": "markdown",
   "id": "public-works",
   "metadata": {},
   "source": [
    "Fisher Rao Norm Distribution"
   ]
  },
  {
   "cell_type": "code",
   "execution_count": 21,
   "id": "indonesian-acquisition",
   "metadata": {},
   "outputs": [
    {
     "data": {
      "image/png": "[encoded data removed]",
      "text/plain": [
       "<Figure size 432x288 with 1 Axes>"
      ]
     },
     "metadata": {
      "needs_background": "light"
     },
     "output_type": "display_data"
    }
   ],
   "source": [
    "plt.subplot(111)\n",
    "nbins = 10\n",
    "FR2 = [np.abs(e) for e in FR]\n",
    "plt.hist(FR2, bins=nbins, rwidth = 0.8 ,color='b')\n",
    "plt.ylabel(\"Total Counts\")\n",
    "plt.xlabel(\"Fisher Rao Norm\")\n",
    "plt.title(\"Fisher Rao Norm Distribution\")\n",
    "plt.savefig('VanillaRao.png')\n",
    "plt.show()"
   ]
  },
  {
   "cell_type": "markdown",
   "id": "flexible-chancellor",
   "metadata": {},
   "source": [
    "Testing the Effective Dimension"
   ]
  },
  {
   "cell_type": "code",
   "execution_count": 22,
   "id": "responsible-combining",
   "metadata": {},
   "outputs": [
    {
     "name": "stderr",
     "output_type": "stream",
     "text": [
      "100%|██████████| 1000/1000 [00:00<00:00, 6625.46it/s]\n"
     ]
    },
    {
     "data": {
      "text/plain": [
       "[<matplotlib.lines.Line2D at 0x7f499cd6f0a0>]"
      ]
     },
     "execution_count": 22,
     "metadata": {},
     "output_type": "execute_result"
    },
    {
     "data": {
      "image/png": "[encoded data removed]",
      "text/plain": [
       "<Figure size 432x288 with 1 Axes>"
      ]
     },
     "metadata": {
      "needs_background": "light"
     },
     "output_type": "display_data"
    }
   ],
   "source": [
    "ed = []\n",
    "n_samples = [i for i in range(10,1000000,1000)]\n",
    "workingdir = config['output']['directory']\n",
    "\n",
    "ed = effective_dimension(net,FinalAverageFisher, 12, n_samples, 12)\n",
    "d = {\"Samples\": n_samples, \"ED\": np.array([x/12 for x in ed])}\n",
    "pickle.dump(d, open(f\"{workingdir}/effd.p\", \"wb\"))\n",
    "plt.plot(d['Samples'], d['ED'])"
   ]
  },
  {
   "cell_type": "markdown",
   "id": "known-healthcare",
   "metadata": {},
   "source": []
  }
 ],
 "metadata": {
  "kernelspec": {
   "display_name": "Python 3",
   "language": "python",
   "name": "python3"
  },
  "language_info": {
   "codemirror_mode": {
    "name": "ipython",
    "version": 3
   },
   "file_extension": ".py",
   "mimetype": "text/x-python",
   "name": "python",
   "nbconvert_exporter": "python",
   "pygments_lexer": "ipython3",
   "version": "3.8.5"
  }
 },
 "nbformat": 4,
 "nbformat_minor": 5
}
