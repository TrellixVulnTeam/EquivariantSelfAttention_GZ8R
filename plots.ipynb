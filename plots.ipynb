{
 "cells": [
  {
   "cell_type": "code",
   "execution_count": null,
   "id": "valid-container",
   "metadata": {
    "tags": []
   },
   "outputs": [],
   "source": [
    "import os\n",
    "import numpy as np\n",
    "import pandas as pd\n",
    "import matplotlib.pyplot as plt\n",
    "from PIL import Image"
   ]
  },
  {
   "cell_type": "code",
   "execution_count": null,
   "id": "radio-password",
   "metadata": {
    "tags": []
   },
   "outputs": [],
   "source": [
    "def plot(required, \n",
    "         BASE = \"./models/{architecture}/mirabest/{kernel}/{e2}random rotation/\", \n",
    "         architecture = ['bowles2021', 'scaife2021'], \n",
    "         kernels = ['5kernel', '7kernel', '9kernel'], \n",
    "         e2 = ['C4/', 'C8/', 'C16/', 'D4/', 'D8/', 'D16/', '']\n",
    "        ):\n",
    "    for a in architecture:\n",
    "        for e in e2:\n",
    "            for k in kernels:\n",
    "                PATH = BASE.format(architecture=a, kernel=k, e2=e)\n",
    "                if os.path.isdir(PATH):\n",
    "                    files = os.listdir(PATH)\n",
    "                    for f in files:\n",
    "                        if (required in f) and ('png' in f):\n",
    "                            print(f\"{a:<11} {k:<8} {e.rstrip('/'):<15} {f:>}\")\n",
    "                            with Image.open(PATH+f) as im:\n",
    "                                fig, ax = plt.subplots(figsize=(16,9))\n",
    "                                plt.imshow(np.asarray(im))\n",
    "                                plt.axis('off')\n",
    "                                plt.show()"
   ]
  },
  {
   "cell_type": "markdown",
   "id": "vietnamese-valuation",
   "metadata": {},
   "source": [
    "# e2 Experiment"
   ]
  },
  {
   "cell_type": "code",
   "execution_count": null,
   "id": "korean-birmingham",
   "metadata": {
    "tags": []
   },
   "outputs": [],
   "source": [
    "plot('source_3.', e2=['D8/', ''], kernels=['5kernel'])"
   ]
  },
  {
   "cell_type": "code",
   "execution_count": null,
   "id": "oriental-geneva",
   "metadata": {
    "tags": []
   },
   "outputs": [],
   "source": [
    "plot('source_30', e2=['D8/', ''], kernels=['5kernel'])"
   ]
  },
  {
   "cell_type": "code",
   "execution_count": null,
   "id": "rural-concentration",
   "metadata": {
    "tags": []
   },
   "outputs": [],
   "source": [
    "plot('source_32', e2=['D8/', ''], kernels=['5kernel'])"
   ]
  },
  {
   "cell_type": "code",
   "execution_count": null,
   "id": "designing-registrar",
   "metadata": {
    "tags": []
   },
   "outputs": [],
   "source": [
    "plot('AG.', e2=['D8/', ''], kernels=['5kernel'])"
   ]
  },
  {
   "cell_type": "code",
   "execution_count": null,
   "id": "quantitative-excitement",
   "metadata": {
    "tags": []
   },
   "outputs": [],
   "source": [
    "plot('AG', e2=['D8/', ''], kernels=['5kernel'])"
   ]
  },
  {
   "cell_type": "code",
   "execution_count": null,
   "id": "developmental-namibia",
   "metadata": {
    "tags": []
   },
   "outputs": [],
   "source": [
    "plot('training', e2=['D8/', ''], kernels=['5kernel'])"
   ]
  },
  {
   "cell_type": "markdown",
   "id": "racial-breathing",
   "metadata": {},
   "source": [
    "# Kernel Size Experiment\n"
   ]
  },
  {
   "cell_type": "code",
   "execution_count": null,
   "id": "bigger-sport",
   "metadata": {
    "tags": []
   },
   "outputs": [],
   "source": [
    "plot('source_3.', e2=['D8/'])"
   ]
  },
  {
   "cell_type": "code",
   "execution_count": null,
   "id": "exposed-harassment",
   "metadata": {
    "tags": []
   },
   "outputs": [],
   "source": [
    "plot('source_30', e2=['D8/'])"
   ]
  },
  {
   "cell_type": "code",
   "execution_count": null,
   "id": "polar-kruger",
   "metadata": {
    "tags": []
   },
   "outputs": [],
   "source": [
    "plot('source_32', e2=['D8/'])"
   ]
  },
  {
   "cell_type": "code",
   "execution_count": null,
   "id": "premier-ministry",
   "metadata": {
    "tags": []
   },
   "outputs": [],
   "source": [
    "plot('AG.', e2=['D8/'])"
   ]
  },
  {
   "cell_type": "code",
   "execution_count": null,
   "id": "forward-classics",
   "metadata": {
    "tags": []
   },
   "outputs": [],
   "source": [
    "plot('AG', e2=['D8/'])"
   ]
  },
  {
   "cell_type": "code",
   "execution_count": null,
   "id": "reserved-promotion",
   "metadata": {
    "tags": []
   },
   "outputs": [],
   "source": [
    "plot('training', e2=['D8/'])"
   ]
  },
  {
   "cell_type": "code",
   "execution_count": null,
   "id": "resistant-consultancy",
   "metadata": {},
   "outputs": [],
   "source": []
  }
 ],
 "metadata": {
  "kernelspec": {
   "display_name": "Python 3",
   "language": "python",
   "name": "python3"
  },
  "language_info": {
   "codemirror_mode": {
    "name": "ipython",
    "version": 3
   },
   "file_extension": ".py",
   "mimetype": "text/x-python",
   "name": "python",
   "nbconvert_exporter": "python",
   "pygments_lexer": "ipython3",
   "version": "3.8.5"
  }
 },
 "nbformat": 4,
 "nbformat_minor": 5
}
